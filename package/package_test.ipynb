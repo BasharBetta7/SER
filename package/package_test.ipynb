{
 "cells": [
  {
   "cell_type": "code",
   "execution_count": 22,
   "metadata": {},
   "outputs": [
    {
     "name": "stderr",
     "output_type": "stream",
     "text": [
      "Some weights of Wav2Vec2Model were not initialized from the model checkpoint at facebook/wav2vec2-base and are newly initialized: ['wav2vec2.encoder.pos_conv_embed.conv.parametrizations.weight.original1', 'wav2vec2.encoder.pos_conv_embed.conv.parametrizations.weight.original0']\n",
      "You should probably TRAIN this model on a down-stream task to be able to use it for predictions and inference.\n"
     ]
    },
    {
     "name": "stdout",
     "output_type": "stream",
     "text": [
      "/home/bashar/.caser/caser.pt\n"
     ]
    }
   ],
   "source": [
    "from caser.speech_emotions import CaserEmotionModel\n",
    "\n",
    "#define the recognizer\n",
    "er = CaserEmotionModel(model_name='caser', device='cuda')\n"
   ]
  },
  {
   "cell_type": "code",
   "execution_count": 23,
   "metadata": {},
   "outputs": [
    {
     "name": "stdout",
     "output_type": "stream",
     "text": [
      "Start talking...\n",
      "end\n",
      "{'Prediction': ['Neutral'], 'logits': [tensor([ 3.2850, -3.3423,  3.9444, -5.3186], device='cuda:0')]}\n"
     ]
    }
   ],
   "source": [
    "\n",
    "print(er.predict_microphone(3))"
   ]
  },
  {
   "cell_type": "code",
   "execution_count": 24,
   "metadata": {},
   "outputs": [
    {
     "name": "stdout",
     "output_type": "stream",
     "text": [
      "{'Prediction': 'Angry', 'logits': {'hap': '-2.0973', 'ang': '8.9994', 'neu': '-2.3425', 'sad': '-3.8372'}}\n"
     ]
    }
   ],
   "source": [
    "# predict emotion from audio file:\n",
    "print(er.predict_emotion(audio_path='./samples/angry​.mp3'))\n"
   ]
  }
 ],
 "metadata": {
  "kernelspec": {
   "display_name": "torch",
   "language": "python",
   "name": "torch"
  },
  "language_info": {
   "codemirror_mode": {
    "name": "ipython",
    "version": 3
   },
   "file_extension": ".py",
   "mimetype": "text/x-python",
   "name": "python",
   "nbconvert_exporter": "python",
   "pygments_lexer": "ipython3",
   "version": "3.8.0"
  }
 },
 "nbformat": 4,
 "nbformat_minor": 2
}
